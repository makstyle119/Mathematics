{
  "nbformat": 4,
  "nbformat_minor": 0,
  "metadata": {
    "colab": {
      "provenance": [],
      "authorship_tag": "ABX9TyMUsutl1Pkl8XlB9syzKk/y"
    },
    "kernelspec": {
      "name": "python3",
      "display_name": "Python 3"
    },
    "language_info": {
      "name": "python"
    }
  },
  "cells": [
    {
      "cell_type": "code",
      "execution_count": null,
      "metadata": {
        "colab": {
          "base_uri": "https://localhost:8080/"
        },
        "id": "jIsGms9C5M3w",
        "outputId": "88e2421f-7e6b-4c95-9609-ec03bf1220b8"
      },
      "outputs": [
        {
          "output_type": "stream",
          "name": "stdout",
          "text": [
            "Hello World 7\n"
          ]
        }
      ],
      "source": [
        "print('Hello World')"
      ]
    },
    {
      "cell_type": "markdown",
      "source": [
        "# Section 1\n",
        "## section 2\n",
        "### section 3\n",
        "#### section 4\n",
        "##### section 5\n",
        "text\n"
      ],
      "metadata": {
        "id": "w5FlKZw86VAl"
      }
    },
    {
      "cell_type": "markdown",
      "source": [
        "# Week 1"
      ],
      "metadata": {
        "id": "NDugfR5IiIB0"
      }
    },
    {
      "cell_type": "markdown",
      "source": [
        "## Set up Proportion:"
      ],
      "metadata": {
        "id": "6An_6154tzRB"
      }
    },
    {
      "cell_type": "markdown",
      "source": [
        "$\\frac{n1}{d1}=\\frac{n2}{d2}$"
      ],
      "metadata": {
        "id": "S1KdamL63geE"
      }
    },
    {
      "cell_type": "code",
      "source": [
        "# Put a zero in for the unknow value\n",
        "n1 = 1\n",
        "d1 = 2\n",
        "n2 = 0\n",
        "d2 = 16\n",
        "\n",
        "if n2 == 0:\n",
        "  answer = d2 * n1 / d1\n",
        "  print(\"n2 = \", answer)\n",
        "\n",
        "if d2 == 0:\n",
        "  answer = n2 * n1 / d1\n",
        "  print(\"d2 = \", answer)\n",
        "\n",
        "print(1+2/3+3+4/5-7)"
      ],
      "metadata": {
        "colab": {
          "base_uri": "https://localhost:8080/"
        },
        "id": "5Yf7m3Jku0dE",
        "outputId": "11eeae94-6eed-4df2-b615-98e46ba1956a"
      },
      "execution_count": null,
      "outputs": [
        {
          "output_type": "stream",
          "name": "stdout",
          "text": [
            "n2 =  8.0\n",
            "-1.533333333333334\n"
          ]
        }
      ]
    },
    {
      "cell_type": "markdown",
      "source": [
        "## Explanation"
      ],
      "metadata": {
        "id": "4GQ28O4r3dbX"
      }
    },
    {
      "cell_type": "markdown",
      "source": [
        "**2/3 = 0.6666**\n",
        "\n",
        "how ?\n",
        "\n",
        "prove it\n",
        "\n",
        "**Let's say:**\n",
        "\n",
        "**x = .6666**\n",
        "\n",
        "so we multiply both with 10\n",
        "\n",
        "**10x = 6.666**\n",
        "\n",
        "after multipling we subtract the original equation from the current\n",
        "\n",
        "**10x = 6.666 - x = .6666**\n",
        "\n",
        "**10x - x = 6.666 - .6666**\n",
        "\n",
        "which will give us\n",
        "\n",
        "**9x = 6**\n",
        "\n",
        "**x = 6/9**\n",
        "\n",
        "**x = 2/3 = 0.6666**"
      ],
      "metadata": {
        "id": "FnCvbPArbNbL"
      }
    },
    {
      "cell_type": "markdown",
      "source": [
        "# Week 2"
      ],
      "metadata": {
        "id": "9T_eoUCxiPI3"
      }
    },
    {
      "cell_type": "markdown",
      "source": [
        "## Problem"
      ],
      "metadata": {
        "id": "BJLUK01Si5tO"
      }
    },
    {
      "cell_type": "markdown",
      "source": [
        "### **001:**"
      ],
      "metadata": {
        "id": "9-Xz4DAdi_xx"
      }
    },
    {
      "cell_type": "markdown",
      "source": [
        "x + 3 = 5\n",
        "\n",
        "let's solve\n",
        "\n",
        "=> x + 3 = 5\n",
        "\n",
        "now do opposite if there is a + 3 we will add -3 on both sides\n",
        "\n",
        "=> x +3 -3 = 5 -3\n",
        "\n",
        "=> x = 2"
      ],
      "metadata": {
        "id": "XQRpmETajG8z"
      }
    },
    {
      "cell_type": "markdown",
      "source": [
        "### **002:**"
      ],
      "metadata": {
        "id": "O6hHixLnjJLB"
      }
    },
    {
      "cell_type": "markdown",
      "source": [
        "x - 2 = 10\n",
        "\n",
        "let's solve\n",
        "\n",
        "=> x - 2 = 10\n",
        "\n",
        "now do opposite if there is a - 2 we will add + 2 on both sides\n",
        "\n",
        "=> x + 2 - 2 = 10 + 2\n",
        "\n",
        "=> x = 12"
      ],
      "metadata": {
        "id": "wlRrYbvSjOQk"
      }
    },
    {
      "cell_type": "markdown",
      "source": [
        "### **003:**"
      ],
      "metadata": {
        "id": "fiVqyJyqjPfJ"
      }
    },
    {
      "cell_type": "markdown",
      "source": [
        "3x = 12\n",
        "\n",
        "let's solve\n",
        "\n",
        "=> 3x = 12\n",
        "\n",
        "now do opposite if there is a multiplier of 3 we will divide both sides by 3\n",
        "\n",
        "=> (3x)/3 = 12/3\n",
        "\n",
        "=> x = 4"
      ],
      "metadata": {
        "id": "QAtPeZxDjT6N"
      }
    },
    {
      "cell_type": "markdown",
      "source": [
        "### **004:**"
      ],
      "metadata": {
        "id": "dQsd_Eb4jWan"
      }
    },
    {
      "cell_type": "markdown",
      "source": [
        "x/4 = 2\n",
        "\n",
        "let's solve\n",
        "\n",
        "=> x/4 = 2\n",
        "\n",
        "now do opposite if there 2 is dividing so we will multiply 2 on both sides\n",
        "\n",
        "=> (x/4)4 = 2*4\n",
        "\n",
        "=> x = 8"
      ],
      "metadata": {
        "id": "KMSlWnthjZn_"
      }
    },
    {
      "cell_type": "markdown",
      "source": [
        "### **005:**"
      ],
      "metadata": {
        "id": "wgKOo8c6jbrG"
      }
    },
    {
      "cell_type": "markdown",
      "source": [
        "4x + 6 = 22\n",
        "\n",
        "let's solve\n",
        "\n",
        "=> 4x + 6 = 22\n",
        "\n",
        "let's first add -6 on both sides because we have +6\n",
        "\n",
        "=> 4x + 6 - 6 = 22 - 6\n",
        "\n",
        "=> 4x = 16\n",
        "\n",
        "now let's divide both side by 4 because 4 is multiplying by x\n",
        "\n",
        "=> (4x)/4 = 16/4\n",
        "\n",
        "=> x = 4"
      ],
      "metadata": {
        "id": "gFu8DGmsLvrY"
      }
    },
    {
      "cell_type": "markdown",
      "source": [
        "## Equation in Python"
      ],
      "metadata": {
        "id": "zavBJRlFjsI9"
      }
    },
    {
      "cell_type": "code",
      "source": [
        "import sympy\n",
        "from sympy import symbols\n",
        "from sympy.solvers import solve\n",
        "\n",
        "x = symbols('x')\n",
        "\n",
        "# put the equation here\n",
        "eq = x - 2\n",
        "\n",
        "print(f\"x = {solve(eq, x)}\")"
      ],
      "metadata": {
        "colab": {
          "base_uri": "https://localhost:8080/"
        },
        "id": "03HHmSlfQD4I",
        "outputId": "567bbd1d-ad77-4374-9818-8661775192f1"
      },
      "execution_count": null,
      "outputs": [
        {
          "output_type": "stream",
          "name": "stdout",
          "text": [
            "x = [2]\n"
          ]
        }
      ]
    },
    {
      "cell_type": "markdown",
      "source": [
        "## Prompt for input"
      ],
      "metadata": {
        "id": "b99hEeKMxa1i"
      }
    },
    {
      "cell_type": "code",
      "source": [
        "import sympy\n",
        "from sympy import symbols\n",
        "from sympy.solvers import solve\n",
        "\n",
        "x = symbols('x')\n",
        "\n",
        "eq = input('Enter equation: 0 = ')\n",
        "\n",
        "print(f\"x = {solve(eq, x)}\")"
      ],
      "metadata": {
        "colab": {
          "base_uri": "https://localhost:8080/"
        },
        "id": "BIwfF6v7xiDT",
        "outputId": "7717ab73-870a-475c-a1fe-31fdcc9801ca"
      },
      "execution_count": null,
      "outputs": [
        {
          "output_type": "stream",
          "name": "stdout",
          "text": [
            "Enter equation: 0 = 3*x-6\n",
            "x = [2]\n"
          ]
        }
      ]
    },
    {
      "cell_type": "markdown",
      "source": [
        "## Multi answers"
      ],
      "metadata": {
        "id": "SjSISOIly7Tx"
      }
    },
    {
      "cell_type": "code",
      "source": [
        "import sympy\n",
        "from sympy import symbols\n",
        "from sympy.solvers import solve\n",
        "\n",
        "x = symbols('x')\n",
        "\n",
        "eq = input('Enter equation: 0 = ')\n",
        "\n",
        "solution = solve(eq, x)\n",
        "\n",
        "for s in solution:\n",
        "  print(f\"x = {s}\")"
      ],
      "metadata": {
        "colab": {
          "base_uri": "https://localhost:8080/"
        },
        "id": "BPBZKadBzAy2",
        "outputId": "ce5850f2-bc07-4f56-afd2-61688556e430"
      },
      "execution_count": null,
      "outputs": [
        {
          "output_type": "stream",
          "name": "stdout",
          "text": [
            "Enter equation: 0 = (x-1)*(x+2)*(x-3)\n",
            "x = -2\n",
            "x = 1\n",
            "x = 3\n"
          ]
        }
      ]
    },
    {
      "cell_type": "markdown",
      "source": [
        "## Solving in other ways"
      ],
      "metadata": {
        "id": "pX_nknDtBtjw"
      }
    },
    {
      "cell_type": "code",
      "source": [
        "from sympy import *\n",
        "\n",
        "var('x y')\n",
        "\n",
        "first = 2*x + 10\n",
        "\n",
        "# eq1 = Eq(first, 0)\n",
        "eq1 = Eq(first, y) # let's do with y instance of 0\n",
        "\n",
        "sol = solve(eq1, x)\n",
        "\n",
        "print(f\"x = {sol[0]}\")"
      ],
      "metadata": {
        "colab": {
          "base_uri": "https://localhost:8080/"
        },
        "id": "yqJvqTD8Bvnm",
        "outputId": "d8538b73-952b-4a01-b5a6-839bdc9950df"
      },
      "execution_count": null,
      "outputs": [
        {
          "output_type": "stream",
          "name": "stdout",
          "text": [
            "x = y/2 - 5\n"
          ]
        }
      ]
    },
    {
      "cell_type": "markdown",
      "source": [
        "## Factoring"
      ],
      "metadata": {
        "id": "iYIm00j2DKkH"
      }
    },
    {
      "cell_type": "code",
      "source": [
        "import sympy\n",
        "from sympy import symbols\n",
        "\n",
        "var('x y')\n",
        "\n",
        "eq1 = 2*x + 10*y + 4\n",
        "eq2 = x**2-4\n",
        "\n",
        "sympy.factor(eq1) # convert this into factoring\n",
        "sympy.factor(eq2) # (x - 2) (x + 2)"
      ],
      "metadata": {
        "colab": {
          "base_uri": "https://localhost:8080/",
          "height": 38
        },
        "id": "PFS_KTqJDNk6",
        "outputId": "b8708aa8-7973-43bc-d7a2-082ef54a352b"
      },
      "execution_count": null,
      "outputs": [
        {
          "output_type": "execute_result",
          "data": {
            "text/plain": [
              "2*(x + 5*y + 2)"
            ],
            "text/latex": "$\\displaystyle 2 \\left(x + 5 y + 2\\right)$"
          },
          "metadata": {},
          "execution_count": 7
        }
      ]
    },
    {
      "cell_type": "markdown",
      "source": [
        "## Explaning How Each Function Work"
      ],
      "metadata": {
        "id": "85KGyu4CE6I6"
      }
    },
    {
      "cell_type": "code",
      "source": [
        "# convert string input (indluding fraction into number)\n",
        "def string_frac(in_string):\n",
        "  if \"/\" in in_string: # look if / avalible in string\n",
        "    nd = in_string.split('/') # if yes we will divide the string on / (n d is nominator and denominator)\n",
        "    n = float(nd[0]) # nominator\n",
        "    d = float(nd[1]) # denominator\n",
        "    ans = n/d # divide nominator and denominator\n",
        "    return ans # return the answer\n",
        "  else:\n",
        "    ans = float(in_string) #convert number into float\n",
        "    return ans # return the answer\n",
        "\n",
        "# one-step multiply\n",
        "def one_step_mult():\n",
        "  # using string_frac(<input string>)\n",
        "  import random\n",
        "  a = random.randint(1, 11)\n",
        "  b = random.randint(2, 24)\n",
        "  print(a, \"x =\", b)\n",
        "  ans_in = (input(\"x = \"))\n",
        "  answer = b/a\n",
        "\n",
        "  # test\n",
        "  if string_frac(ans_in) == answer:\n",
        "    print(\"Correct!\")\n",
        "  else:\n",
        "    print(\"try again\")\n",
        "    print(\"Correct answer is: \", answer)\n",
        "\n",
        "# simplest one-step addition\n",
        "def one_step_add():\n",
        "  import random\n",
        "\n",
        "  # Display Problem\n",
        "  a = random.randint(-4, 10)\n",
        "  b = random.randint(2, 24)\n",
        "  print(\"x + \", a, \" = \", b)\n",
        "  ans = float(input(\"x = \"))\n",
        "  answer = b - a\n",
        "\n",
        "  # Test Input\n",
        "  if ans == answer:\n",
        "    print(\"Correct!\")\n",
        "  else:\n",
        "    print(\"try again\")\n",
        "    print(\"Correct answer is: \", answer)\n",
        "\n",
        "# One-step addition with negative value\n",
        "def one_step_subtract():\n",
        "  import random\n",
        "  a = random.randint(-19, -1)\n",
        "  b = random.randint(2, 24)\n",
        "  print(a, \" + x =\", b)\n",
        "  ans = float(input(\"x = \"))\n",
        "\n",
        "  # test\n",
        "  answer = b-a\n",
        "  if ans == answer:\n",
        "    print(\"Correct!\")\n",
        "  else:\n",
        "    print(\"try again\")\n",
        "    print(\"Correct answer is: \", answer)"
      ],
      "metadata": {
        "id": "ySzUoluXE9ed"
      },
      "execution_count": null,
      "outputs": []
    },
    {
      "cell_type": "markdown",
      "source": [
        "# Week 3"
      ],
      "metadata": {
        "id": "bRx8WgnJiVS9"
      }
    },
    {
      "cell_type": "markdown",
      "source": [
        "## Fraction and Decimal"
      ],
      "metadata": {
        "id": "-HaYjWO8RGt2"
      }
    },
    {
      "cell_type": "markdown",
      "source": [
        "- \"out of\" = divide\n",
        "- 1/10 = 0.1 = one tenth\n",
        "- 1/100 = 0.01 = one hundreth\n",
        "- 0.001 = one thousand\n",
        "- .234 = 234/1000\n",
        "- .4 = 4/10\n",
        "\n",
        "But what if you have a decimal like this\n",
        ".3333 and it's keep repeating\n",
        "\n",
        "so how will we do this ?\n",
        "\n",
        "let's our value is queal to x\n",
        "\n",
        "=> x = .3333\n",
        "\n",
        "let's multiply it by 3\n",
        "\n",
        "=> 10x = 3.3333\n",
        "\n",
        "let's remove original to the updated\n",
        "\n",
        "=> 9x = 3\n",
        "\n",
        "=> x = 3/9\n",
        "\n",
        "so here we found out that any number which is repeted by it's self will be divided by 9\n",
        "\n",
        "**NOTE: a little dash on the top of number represent it's repeting**\n",
        "\n",
        "let's try with one more example\n",
        "\n",
        "let's say you have a value like 0.090909 and keep repeating\n",
        "\n",
        "=> x = 0.090909\n",
        "\n",
        "because you have 9 in tenth place so we will multiply it with 100\n",
        "\n",
        "=> 100x = 9.090909\n",
        "\n",
        "again divide it by original\n",
        "\n",
        "=> 99x = 9\n",
        "\n",
        "=> x = 9/99 or 1/11"
      ],
      "metadata": {
        "id": "b1gIjYGWTOiT"
      }
    },
    {
      "cell_type": "code",
      "source": [
        "print(10**1)\n",
        "print(10**2)\n",
        "print(10**3)\n",
        "\n",
        "print(10**0)\n",
        "\n",
        "print(10**-1)\n",
        "print(10**-2)\n",
        "print(10**-3)\n"
      ],
      "metadata": {
        "colab": {
          "base_uri": "https://localhost:8080/"
        },
        "id": "4CntoWlwnEfp",
        "outputId": "444bb762-8852-48d8-b477-53dc6853fe68"
      },
      "execution_count": null,
      "outputs": [
        {
          "output_type": "stream",
          "name": "stdout",
          "text": [
            "10\n",
            "100\n",
            "1000\n",
            "1\n",
            "0.1\n",
            "0.01\n",
            "0.001\n"
          ]
        }
      ]
    },
    {
      "cell_type": "code",
      "source": [
        "text = input(\"Enter a number \")\n",
        "print(text)\n",
        "\n",
        "print(len(text))"
      ],
      "metadata": {
        "colab": {
          "base_uri": "https://localhost:8080/"
        },
        "id": "Zxibqpl1nb9g",
        "outputId": "03d8299e-8da8-4b94-f914-ff676f6dd0b5"
      },
      "execution_count": null,
      "outputs": [
        {
          "output_type": "stream",
          "name": "stdout",
          "text": [
            "Enter a number.123\n",
            ".123\n",
            "4\n"
          ]
        }
      ]
    },
    {
      "cell_type": "markdown",
      "source": [
        "## Cast it as a `float` or `int` variable"
      ],
      "metadata": {
        "id": "sBn0g4RSnoUu"
      }
    },
    {
      "cell_type": "code",
      "source": [
        "text = input(\"Enter a number \")\n",
        "num = float(text)\n",
        "\n",
        "print(num + 4)"
      ],
      "metadata": {
        "colab": {
          "base_uri": "https://localhost:8080/"
        },
        "id": "n7RJYMU8nyOr",
        "outputId": "817aeea7-b76f-4ad7-e4c1-9d3fa8ed320a"
      },
      "execution_count": null,
      "outputs": [
        {
          "output_type": "stream",
          "name": "stdout",
          "text": [
            "Enter a number2\n",
            "6.0\n"
          ]
        }
      ]
    },
    {
      "cell_type": "markdown",
      "source": [
        "## Now Put it all this together"
      ],
      "metadata": {
        "id": "mA4GRpE8e9Wy"
      }
    },
    {
      "cell_type": "code",
      "source": [
        "# Get string input, which will include a decimal point\n",
        "digits = input(\"Enter a decimal number to convert: \")\n",
        "\n",
        "# Get number of decimal as an integer\n",
        "exponent = int(len(digits)) - 1\n",
        "\n",
        "# convert the input into float number\n",
        "n = float(digits)\n",
        "\n",
        "# use the exponent to the numerator\n",
        "numerator = int(n * 10**exponent)\n",
        "\n",
        "# use the exponent to the denominator\n",
        "denominator = 10**exponent\n",
        "\n",
        "# percent is the first two decial places\n",
        "percent = n * 100\n",
        "\n",
        "# Output\n",
        "print(\"The decimal is \", n)\n",
        "\n",
        "print(\"The fraction is \", numerator, \"/\", denominator)\n",
        "\n",
        "print(\"The percent is \", percent, \"%\")"
      ],
      "metadata": {
        "colab": {
          "base_uri": "https://localhost:8080/"
        },
        "id": "olP78usbfBdD",
        "outputId": "a1361a05-0a23-4039-db78-21f374b828a5"
      },
      "execution_count": null,
      "outputs": [
        {
          "output_type": "stream",
          "name": "stdout",
          "text": [
            "Enter a decimal number to convert: .125\n",
            "The decimal is  0.125\n",
            "The fraction is  125 / 1000\n",
            "The percent is  12.5 %\n"
          ]
        }
      ]
    },
    {
      "cell_type": "markdown",
      "source": [
        "# Week4"
      ],
      "metadata": {
        "id": "4EJOoYkL3BQH"
      }
    },
    {
      "cell_type": "markdown",
      "source": [
        "## Functions"
      ],
      "metadata": {
        "id": "XQ0WMZDk3GAq"
      }
    },
    {
      "cell_type": "markdown",
      "source": [
        "In Programming and Mathematics function is something which take input and do something with it\n",
        "\n",
        "For Example:\n",
        "\n",
        "y = 2x + 3\n",
        "\n",
        "Let's solve with x is = 0\n",
        "\n",
        "=> y = 2(0) + 3\n",
        "\n",
        "=> y = 0 + 3\n",
        "\n",
        "=> y = 3\n",
        "\n",
        "Now let's solve x = 4\n",
        "\n",
        "=> y = 2(4) + 3\n",
        "\n",
        "=> y = 8 + 3\n",
        "\n",
        "=> y = 11\n",
        "\n",
        "In the first example you see when `x` is 0 `y` turn out to be `3` and when we change `x` to `4` so `y` become `11`\n",
        "\n",
        "So time we use `f(x)` or `f of x`\n",
        "\n",
        "=> f(x) = 2x + 3\n",
        "\n",
        "let's solve again for x = 4\n",
        "\n",
        "=> f(4) = 2(4) + 3\n",
        "\n",
        "=> f(4) = 8 + 3\n",
        "\n",
        "=> f(4) = 11"
      ],
      "metadata": {
        "id": "bGUXqNc83lIq"
      }
    },
    {
      "cell_type": "code",
      "source": [
        "x = 5\n",
        "y = 4*x + 3\n",
        "\n",
        "print(x, \",\", y)\n",
        "\n",
        "print(\"x \\t y\")\n",
        "\n",
        "for x in range(11):\n",
        "  y = 4*x + 3\n",
        "  print(x, \"\\t\", y)"
      ],
      "metadata": {
        "colab": {
          "base_uri": "https://localhost:8080/"
        },
        "id": "huHyxZWp5aoP",
        "outputId": "b7fd811c-70a6-4e28-be7b-207c7a0e8dc1"
      },
      "execution_count": null,
      "outputs": [
        {
          "output_type": "stream",
          "name": "stdout",
          "text": [
            "5   23\n",
            "x \t y\n",
            "0 \t 3\n",
            "1 \t 7\n",
            "2 \t 11\n",
            "3 \t 15\n",
            "4 \t 19\n",
            "5 \t 23\n",
            "6 \t 27\n",
            "7 \t 31\n",
            "8 \t 35\n",
            "9 \t 39\n",
            "10 \t 43\n"
          ]
        }
      ]
    },
    {
      "cell_type": "markdown",
      "source": [
        "## Funtion"
      ],
      "metadata": {
        "id": "fHOvoAJJ69rT"
      }
    },
    {
      "cell_type": "markdown",
      "source": [
        "Defining a function in Python"
      ],
      "metadata": {
        "id": "eZaSKA8t7Q-O"
      }
    },
    {
      "cell_type": "code",
      "source": [
        "def f(x):\n",
        "  y = 4*x + 3\n",
        "  return y\n",
        "\n",
        "print(5, \",\", f(5))\n",
        "\n",
        "# Next in loop\n",
        "for x in range(11):\n",
        "  y = f(x)\n",
        "  print(x, \"\\t\", y)"
      ],
      "metadata": {
        "colab": {
          "base_uri": "https://localhost:8080/"
        },
        "id": "AleFMqV07EOs",
        "outputId": "6d5e9606-f1d1-4e72-d6ba-112abc285d6c"
      },
      "execution_count": null,
      "outputs": [
        {
          "output_type": "stream",
          "name": "stdout",
          "text": [
            "5 , 23\n",
            "0 \t 3\n",
            "1 \t 7\n",
            "2 \t 11\n",
            "3 \t 15\n",
            "4 \t 19\n",
            "5 \t 23\n",
            "6 \t 27\n",
            "7 \t 31\n",
            "8 \t 35\n",
            "9 \t 39\n",
            "10 \t 43\n"
          ]
        }
      ]
    },
    {
      "cell_type": "markdown",
      "source": [],
      "metadata": {
        "id": "qZE3TKURRNTB"
      }
    },
    {
      "cell_type": "markdown",
      "source": [
        "## Graphing Function"
      ],
      "metadata": {
        "id": "QTDkx-i_RQpb"
      }
    },
    {
      "cell_type": "markdown",
      "source": [
        "basic black graph"
      ],
      "metadata": {
        "id": "4tKPDVe2R4rS"
      }
    },
    {
      "cell_type": "code",
      "source": [
        "import matplotlib.pyplot as plt\n",
        "\n",
        "fig, ax = plt.subplots()\n",
        "\n",
        "plt.show()\n"
      ],
      "metadata": {
        "colab": {
          "base_uri": "https://localhost:8080/",
          "height": 435
        },
        "id": "Agb125RHR7I3",
        "outputId": "ebe976a2-374b-4ee3-cf98-9b828be85191"
      },
      "execution_count": 6,
      "outputs": [
        {
          "output_type": "display_data",
          "data": {
            "text/plain": [
              "<Figure size 640x480 with 1 Axes>"
            ],
            "image/png": "[encoded data removed]"
          },
          "metadata": {}
        }
      ]
    },
    {
      "cell_type": "markdown",
      "source": [
        "Define dimension of the graph:"
      ],
      "metadata": {
        "id": "RGNyzsI3Ucq2"
      }
    },
    {
      "cell_type": "code",
      "source": [
        "import matplotlib.pyplot as plt\n",
        "\n",
        "fig, ax = plt.subplots()\n",
        "\n",
        "# Dimensions\n",
        "plt.axis([-10, 10, -10, 10])\n",
        "\n",
        "plt.show()"
      ],
      "metadata": {
        "id": "w2GvUGCxUgwi"
      },
      "execution_count": null,
      "outputs": []
    },
    {
      "cell_type": "markdown",
      "source": [
        "A better way to set the dimensions"
      ],
      "metadata": {
        "id": "taqgg1zbUuxH"
      }
    },
    {
      "cell_type": "code",
      "source": [
        "import matplotlib.pyplot as plt\n",
        "\n",
        "x_min = -10\n",
        "x_max = 10\n",
        "y_min = -10\n",
        "y_max = 10\n",
        "\n",
        "fig, ax = plt.subplots()\n",
        "\n",
        "# Dimensions\n",
        "plt.axis([x_min, x_max, y_min, y_max])\n",
        "\n",
        "plt.show()"
      ],
      "metadata": {
        "id": "vZhs6995UwM8"
      },
      "execution_count": null,
      "outputs": []
    },
    {
      "cell_type": "markdown",
      "source": [
        "Display Axis line"
      ],
      "metadata": {
        "id": "gOLiV7n3Va9C"
      }
    },
    {
      "cell_type": "code",
      "source": [
        "import matplotlib.pyplot as plt\n",
        "\n",
        "x_min = -10\n",
        "x_max = 10\n",
        "y_min = -10\n",
        "y_max = 10\n",
        "\n",
        "fig, ax = plt.subplots()\n",
        "\n",
        "# Dimensions\n",
        "plt.axis([x_min, x_max, y_min, y_max])\n",
        "plt.plot([x_min, x_max], [0, 0], 'b') # first is x asix and second value is y asix and third is the color\n",
        "plt.plot([0, 0], [y_min, y_max], 'b')\n",
        "\n",
        "plt.show()"
      ],
      "metadata": {
        "colab": {
          "base_uri": "https://localhost:8080/",
          "height": 435
        },
        "id": "0Y3KVQzvVd6M",
        "outputId": "d2132786-c4ea-4b69-c4f3-a4e04350adf4"
      },
      "execution_count": 8,
      "outputs": [
        {
          "output_type": "display_data",
          "data": {
            "text/plain": [
              "<Figure size 640x480 with 1 Axes>"
            ],
            "image/png": "[encoded data removed]"
          },
          "metadata": {}
        }
      ]
    }
  ]
}